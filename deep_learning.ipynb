{
 "cells": [
  {
   "cell_type": "markdown",
   "metadata": {},
   "source": [
    "# Deep Learning\n",
    "Our deep learning model we used sklearn LabelEncoder to encode our categorical data (genre and director). We created the test train split (default 75/25) and scaled our data using the standard scaler.  We used to_categorical to encode our target (rating class). Our model included 2 hidden layers with 100 nodes each. The accuracy on this model was 66%."
   ]
  },
  {
   "cell_type": "code",
   "execution_count": 1,
   "metadata": {},
   "outputs": [
    {
     "name": "stderr",
     "output_type": "stream",
     "text": [
      "C:\\Users\\jagno\\.conda\\envs\\PythonData\\lib\\site-packages\\tensorflow\\python\\framework\\dtypes.py:516: FutureWarning: Passing (type, 1) or '1type' as a synonym of type is deprecated; in a future version of numpy, it will be understood as (type, (1,)) / '(1,)type'.\n",
      "  _np_qint8 = np.dtype([(\"qint8\", np.int8, 1)])\n",
      "C:\\Users\\jagno\\.conda\\envs\\PythonData\\lib\\site-packages\\tensorflow\\python\\framework\\dtypes.py:517: FutureWarning: Passing (type, 1) or '1type' as a synonym of type is deprecated; in a future version of numpy, it will be understood as (type, (1,)) / '(1,)type'.\n",
      "  _np_quint8 = np.dtype([(\"quint8\", np.uint8, 1)])\n",
      "C:\\Users\\jagno\\.conda\\envs\\PythonData\\lib\\site-packages\\tensorflow\\python\\framework\\dtypes.py:518: FutureWarning: Passing (type, 1) or '1type' as a synonym of type is deprecated; in a future version of numpy, it will be understood as (type, (1,)) / '(1,)type'.\n",
      "  _np_qint16 = np.dtype([(\"qint16\", np.int16, 1)])\n",
      "C:\\Users\\jagno\\.conda\\envs\\PythonData\\lib\\site-packages\\tensorflow\\python\\framework\\dtypes.py:519: FutureWarning: Passing (type, 1) or '1type' as a synonym of type is deprecated; in a future version of numpy, it will be understood as (type, (1,)) / '(1,)type'.\n",
      "  _np_quint16 = np.dtype([(\"quint16\", np.uint16, 1)])\n",
      "C:\\Users\\jagno\\.conda\\envs\\PythonData\\lib\\site-packages\\tensorflow\\python\\framework\\dtypes.py:520: FutureWarning: Passing (type, 1) or '1type' as a synonym of type is deprecated; in a future version of numpy, it will be understood as (type, (1,)) / '(1,)type'.\n",
      "  _np_qint32 = np.dtype([(\"qint32\", np.int32, 1)])\n",
      "C:\\Users\\jagno\\.conda\\envs\\PythonData\\lib\\site-packages\\tensorflow\\python\\framework\\dtypes.py:525: FutureWarning: Passing (type, 1) or '1type' as a synonym of type is deprecated; in a future version of numpy, it will be understood as (type, (1,)) / '(1,)type'.\n",
      "  np_resource = np.dtype([(\"resource\", np.ubyte, 1)])\n",
      "C:\\Users\\jagno\\.conda\\envs\\PythonData\\lib\\site-packages\\tensorboard\\compat\\tensorflow_stub\\dtypes.py:541: FutureWarning: Passing (type, 1) or '1type' as a synonym of type is deprecated; in a future version of numpy, it will be understood as (type, (1,)) / '(1,)type'.\n",
      "  _np_qint8 = np.dtype([(\"qint8\", np.int8, 1)])\n",
      "C:\\Users\\jagno\\.conda\\envs\\PythonData\\lib\\site-packages\\tensorboard\\compat\\tensorflow_stub\\dtypes.py:542: FutureWarning: Passing (type, 1) or '1type' as a synonym of type is deprecated; in a future version of numpy, it will be understood as (type, (1,)) / '(1,)type'.\n",
      "  _np_quint8 = np.dtype([(\"quint8\", np.uint8, 1)])\n",
      "C:\\Users\\jagno\\.conda\\envs\\PythonData\\lib\\site-packages\\tensorboard\\compat\\tensorflow_stub\\dtypes.py:543: FutureWarning: Passing (type, 1) or '1type' as a synonym of type is deprecated; in a future version of numpy, it will be understood as (type, (1,)) / '(1,)type'.\n",
      "  _np_qint16 = np.dtype([(\"qint16\", np.int16, 1)])\n",
      "C:\\Users\\jagno\\.conda\\envs\\PythonData\\lib\\site-packages\\tensorboard\\compat\\tensorflow_stub\\dtypes.py:544: FutureWarning: Passing (type, 1) or '1type' as a synonym of type is deprecated; in a future version of numpy, it will be understood as (type, (1,)) / '(1,)type'.\n",
      "  _np_quint16 = np.dtype([(\"quint16\", np.uint16, 1)])\n",
      "C:\\Users\\jagno\\.conda\\envs\\PythonData\\lib\\site-packages\\tensorboard\\compat\\tensorflow_stub\\dtypes.py:545: FutureWarning: Passing (type, 1) or '1type' as a synonym of type is deprecated; in a future version of numpy, it will be understood as (type, (1,)) / '(1,)type'.\n",
      "  _np_qint32 = np.dtype([(\"qint32\", np.int32, 1)])\n",
      "C:\\Users\\jagno\\.conda\\envs\\PythonData\\lib\\site-packages\\tensorboard\\compat\\tensorflow_stub\\dtypes.py:550: FutureWarning: Passing (type, 1) or '1type' as a synonym of type is deprecated; in a future version of numpy, it will be understood as (type, (1,)) / '(1,)type'.\n",
      "  np_resource = np.dtype([(\"resource\", np.ubyte, 1)])\n"
     ]
    }
   ],
   "source": [
    "import pandas as pd\n",
    "import numpy as np\n",
    "from sqlalchemy import create_engine\n",
    "# from config import username, password\n",
    "from numpy.random import seed\n",
    "seed(42)\n",
    "from sklearn.model_selection import train_test_split\n",
    "from sklearn.preprocessing import LabelEncoder\n",
    "from sklearn.preprocessing import StandardScaler\n",
    "import tensorflow\n",
    "tensorflow.keras.__version__\n",
    "import warnings\n",
    "warnings.filterwarnings('ignore')\n",
    "\n",
    "from sklearn.ensemble import RandomForestClassifier\n"
   ]
  },
  {
   "cell_type": "markdown",
   "metadata": {},
   "source": [
    "## Data Preprocessing"
   ]
  },
  {
   "cell_type": "code",
   "execution_count": 2,
   "metadata": {},
   "outputs": [
    {
     "data": {
      "text/html": [
       "<div>\n",
       "<style scoped>\n",
       "    .dataframe tbody tr th:only-of-type {\n",
       "        vertical-align: middle;\n",
       "    }\n",
       "\n",
       "    .dataframe tbody tr th {\n",
       "        vertical-align: top;\n",
       "    }\n",
       "\n",
       "    .dataframe thead th {\n",
       "        text-align: right;\n",
       "    }\n",
       "</style>\n",
       "<table border=\"1\" class=\"dataframe\">\n",
       "  <thead>\n",
       "    <tr style=\"text-align: right;\">\n",
       "      <th></th>\n",
       "      <th>imdb_title_id</th>\n",
       "      <th>title</th>\n",
       "      <th>year</th>\n",
       "      <th>genre</th>\n",
       "      <th>duration</th>\n",
       "      <th>country</th>\n",
       "      <th>director</th>\n",
       "      <th>production_company</th>\n",
       "      <th>budget</th>\n",
       "      <th>total_votes</th>\n",
       "      <th>...</th>\n",
       "      <th>allover45</th>\n",
       "      <th>males</th>\n",
       "      <th>males18to29</th>\n",
       "      <th>males30to44</th>\n",
       "      <th>malesover45</th>\n",
       "      <th>females</th>\n",
       "      <th>females18to29</th>\n",
       "      <th>females30to44</th>\n",
       "      <th>femalesover45</th>\n",
       "      <th>rating_class</th>\n",
       "    </tr>\n",
       "  </thead>\n",
       "  <tbody>\n",
       "    <tr>\n",
       "      <th>0</th>\n",
       "      <td>tt0035423</td>\n",
       "      <td>Kate &amp; Leopold</td>\n",
       "      <td>2001</td>\n",
       "      <td>Comedy</td>\n",
       "      <td>118</td>\n",
       "      <td>USA</td>\n",
       "      <td>James Mangold</td>\n",
       "      <td>Konrad Pictures</td>\n",
       "      <td>48000000</td>\n",
       "      <td>75298</td>\n",
       "      <td>...</td>\n",
       "      <td>6.4</td>\n",
       "      <td>6.3</td>\n",
       "      <td>6.5</td>\n",
       "      <td>6.2</td>\n",
       "      <td>6.3</td>\n",
       "      <td>6.6</td>\n",
       "      <td>6.7</td>\n",
       "      <td>6.4</td>\n",
       "      <td>6.7</td>\n",
       "      <td>Good</td>\n",
       "    </tr>\n",
       "    <tr>\n",
       "      <th>1</th>\n",
       "      <td>tt0113026</td>\n",
       "      <td>The Fantasticks</td>\n",
       "      <td>2000</td>\n",
       "      <td>Musical</td>\n",
       "      <td>86</td>\n",
       "      <td>USA</td>\n",
       "      <td>Michael Ritchie</td>\n",
       "      <td>Michael Ritchie Productions</td>\n",
       "      <td>10000000</td>\n",
       "      <td>1082</td>\n",
       "      <td>...</td>\n",
       "      <td>5.4</td>\n",
       "      <td>5.3</td>\n",
       "      <td>5.4</td>\n",
       "      <td>5.4</td>\n",
       "      <td>5.3</td>\n",
       "      <td>5.7</td>\n",
       "      <td>5.6</td>\n",
       "      <td>5.8</td>\n",
       "      <td>5.6</td>\n",
       "      <td>Good</td>\n",
       "    </tr>\n",
       "    <tr>\n",
       "      <th>2</th>\n",
       "      <td>tt0118589</td>\n",
       "      <td>Glitter</td>\n",
       "      <td>2001</td>\n",
       "      <td>Drama</td>\n",
       "      <td>104</td>\n",
       "      <td>USA</td>\n",
       "      <td>Vondie Curtis-Hall</td>\n",
       "      <td>Twentieth Century Fox</td>\n",
       "      <td>22000000</td>\n",
       "      <td>20959</td>\n",
       "      <td>...</td>\n",
       "      <td>2.1</td>\n",
       "      <td>1.9</td>\n",
       "      <td>2.1</td>\n",
       "      <td>1.9</td>\n",
       "      <td>2.0</td>\n",
       "      <td>2.9</td>\n",
       "      <td>3.2</td>\n",
       "      <td>2.7</td>\n",
       "      <td>2.5</td>\n",
       "      <td>Bad</td>\n",
       "    </tr>\n",
       "    <tr>\n",
       "      <th>3</th>\n",
       "      <td>tt0118652</td>\n",
       "      <td>The Attic Expeditions</td>\n",
       "      <td>2001</td>\n",
       "      <td>Comedy</td>\n",
       "      <td>100</td>\n",
       "      <td>USA</td>\n",
       "      <td>Jeremy Kasten</td>\n",
       "      <td>Tse Tse Fly Productions</td>\n",
       "      <td>1000000</td>\n",
       "      <td>1588</td>\n",
       "      <td>...</td>\n",
       "      <td>4.6</td>\n",
       "      <td>5.0</td>\n",
       "      <td>4.7</td>\n",
       "      <td>5.1</td>\n",
       "      <td>4.6</td>\n",
       "      <td>4.8</td>\n",
       "      <td>5.8</td>\n",
       "      <td>4.6</td>\n",
       "      <td>4.6</td>\n",
       "      <td>Good</td>\n",
       "    </tr>\n",
       "    <tr>\n",
       "      <th>4</th>\n",
       "      <td>tt0120467</td>\n",
       "      <td>Vulgar</td>\n",
       "      <td>2000</td>\n",
       "      <td>Crime</td>\n",
       "      <td>87</td>\n",
       "      <td>USA</td>\n",
       "      <td>Bryan Johnson</td>\n",
       "      <td>Chango Productions</td>\n",
       "      <td>120000</td>\n",
       "      <td>3852</td>\n",
       "      <td>...</td>\n",
       "      <td>5.0</td>\n",
       "      <td>5.3</td>\n",
       "      <td>6.1</td>\n",
       "      <td>5.3</td>\n",
       "      <td>5.1</td>\n",
       "      <td>5.2</td>\n",
       "      <td>5.2</td>\n",
       "      <td>5.3</td>\n",
       "      <td>4.6</td>\n",
       "      <td>Good</td>\n",
       "    </tr>\n",
       "  </tbody>\n",
       "</table>\n",
       "<p>5 rows × 23 columns</p>\n",
       "</div>"
      ],
      "text/plain": [
       "  imdb_title_id                  title  year    genre  duration country  \\\n",
       "0     tt0035423         Kate & Leopold  2001   Comedy       118     USA   \n",
       "1     tt0113026        The Fantasticks  2000  Musical        86     USA   \n",
       "2     tt0118589                Glitter  2001    Drama       104     USA   \n",
       "3     tt0118652  The Attic Expeditions  2001   Comedy       100     USA   \n",
       "4     tt0120467                 Vulgar  2000    Crime        87     USA   \n",
       "\n",
       "             director           production_company    budget  total_votes  \\\n",
       "0       James Mangold              Konrad Pictures  48000000        75298   \n",
       "1     Michael Ritchie  Michael Ritchie Productions  10000000         1082   \n",
       "2  Vondie Curtis-Hall        Twentieth Century Fox  22000000        20959   \n",
       "3       Jeremy Kasten      Tse Tse Fly Productions   1000000         1588   \n",
       "4       Bryan Johnson           Chango Productions    120000         3852   \n",
       "\n",
       "   ...  allover45  males  males18to29  males30to44  malesover45  females  \\\n",
       "0  ...        6.4    6.3          6.5          6.2          6.3      6.6   \n",
       "1  ...        5.4    5.3          5.4          5.4          5.3      5.7   \n",
       "2  ...        2.1    1.9          2.1          1.9          2.0      2.9   \n",
       "3  ...        4.6    5.0          4.7          5.1          4.6      4.8   \n",
       "4  ...        5.0    5.3          6.1          5.3          5.1      5.2   \n",
       "\n",
       "   females18to29  females30to44  femalesover45  rating_class  \n",
       "0            6.7            6.4            6.7          Good  \n",
       "1            5.6            5.8            5.6          Good  \n",
       "2            3.2            2.7            2.5           Bad  \n",
       "3            5.8            4.6            4.6          Good  \n",
       "4            5.2            5.3            4.6          Good  \n",
       "\n",
       "[5 rows x 23 columns]"
      ]
     },
     "execution_count": 2,
     "metadata": {},
     "output_type": "execute_result"
    }
   ],
   "source": [
    "# Read in movie csv\n",
    "movies = pd.read_csv(\"./Resources/imdb_final.csv\")\n",
    "movies.head()"
   ]
  },
  {
   "cell_type": "code",
   "execution_count": 3,
   "metadata": {},
   "outputs": [],
   "source": [
    "# # Set vote column to integer type\n",
    "# movies[\"median_vote\"] = movies[\"median_vote\"].astype(int)\n",
    "# movies[\"median_vote\"].unique()"
   ]
  },
  {
   "cell_type": "code",
   "execution_count": 4,
   "metadata": {},
   "outputs": [
    {
     "name": "stdout",
     "output_type": "stream",
     "text": [
      "(5060, 5) (5060, 1)\n"
     ]
    }
   ],
   "source": [
    "# Set values for X and y\n",
    "X = movies[[\"year\", \"genre\", \"duration\", \"director\", \"budget\"]]\n",
    "y = movies[\"rating_class\"].values.reshape(-1,1)\n",
    "print(X.shape, y.shape)"
   ]
  },
  {
   "cell_type": "code",
   "execution_count": 5,
   "metadata": {},
   "outputs": [
    {
     "data": {
      "text/html": [
       "<div>\n",
       "<style scoped>\n",
       "    .dataframe tbody tr th:only-of-type {\n",
       "        vertical-align: middle;\n",
       "    }\n",
       "\n",
       "    .dataframe tbody tr th {\n",
       "        vertical-align: top;\n",
       "    }\n",
       "\n",
       "    .dataframe thead th {\n",
       "        text-align: right;\n",
       "    }\n",
       "</style>\n",
       "<table border=\"1\" class=\"dataframe\">\n",
       "  <thead>\n",
       "    <tr style=\"text-align: right;\">\n",
       "      <th></th>\n",
       "      <th>year</th>\n",
       "      <th>genre</th>\n",
       "      <th>duration</th>\n",
       "      <th>director</th>\n",
       "      <th>budget</th>\n",
       "    </tr>\n",
       "  </thead>\n",
       "  <tbody>\n",
       "    <tr>\n",
       "      <th>0</th>\n",
       "      <td>2001</td>\n",
       "      <td>Comedy</td>\n",
       "      <td>118</td>\n",
       "      <td>James Mangold</td>\n",
       "      <td>48000000</td>\n",
       "    </tr>\n",
       "    <tr>\n",
       "      <th>1</th>\n",
       "      <td>2000</td>\n",
       "      <td>Musical</td>\n",
       "      <td>86</td>\n",
       "      <td>Michael Ritchie</td>\n",
       "      <td>10000000</td>\n",
       "    </tr>\n",
       "    <tr>\n",
       "      <th>2</th>\n",
       "      <td>2001</td>\n",
       "      <td>Drama</td>\n",
       "      <td>104</td>\n",
       "      <td>Vondie Curtis-Hall</td>\n",
       "      <td>22000000</td>\n",
       "    </tr>\n",
       "    <tr>\n",
       "      <th>3</th>\n",
       "      <td>2001</td>\n",
       "      <td>Comedy</td>\n",
       "      <td>100</td>\n",
       "      <td>Jeremy Kasten</td>\n",
       "      <td>1000000</td>\n",
       "    </tr>\n",
       "    <tr>\n",
       "      <th>4</th>\n",
       "      <td>2000</td>\n",
       "      <td>Crime</td>\n",
       "      <td>87</td>\n",
       "      <td>Bryan Johnson</td>\n",
       "      <td>120000</td>\n",
       "    </tr>\n",
       "    <tr>\n",
       "      <th>...</th>\n",
       "      <td>...</td>\n",
       "      <td>...</td>\n",
       "      <td>...</td>\n",
       "      <td>...</td>\n",
       "      <td>...</td>\n",
       "    </tr>\n",
       "    <tr>\n",
       "      <th>5055</th>\n",
       "      <td>2019</td>\n",
       "      <td>Comedy</td>\n",
       "      <td>84</td>\n",
       "      <td>Jon Lucas</td>\n",
       "      <td>5000000</td>\n",
       "    </tr>\n",
       "    <tr>\n",
       "      <th>5056</th>\n",
       "      <td>2019</td>\n",
       "      <td>Drama</td>\n",
       "      <td>94</td>\n",
       "      <td>Dan Sallitt</td>\n",
       "      <td>95000</td>\n",
       "    </tr>\n",
       "    <tr>\n",
       "      <th>5057</th>\n",
       "      <td>2019</td>\n",
       "      <td>Action</td>\n",
       "      <td>84</td>\n",
       "      <td>Glenn Miller</td>\n",
       "      <td>100000</td>\n",
       "    </tr>\n",
       "    <tr>\n",
       "      <th>5058</th>\n",
       "      <td>2019</td>\n",
       "      <td>Action</td>\n",
       "      <td>92</td>\n",
       "      <td>Keoni Waxman</td>\n",
       "      <td>3000000</td>\n",
       "    </tr>\n",
       "    <tr>\n",
       "      <th>5059</th>\n",
       "      <td>2019</td>\n",
       "      <td>Horror</td>\n",
       "      <td>77</td>\n",
       "      <td>Robin Entreinger</td>\n",
       "      <td>500000</td>\n",
       "    </tr>\n",
       "  </tbody>\n",
       "</table>\n",
       "<p>5060 rows × 5 columns</p>\n",
       "</div>"
      ],
      "text/plain": [
       "      year    genre  duration            director    budget\n",
       "0     2001   Comedy       118       James Mangold  48000000\n",
       "1     2000  Musical        86     Michael Ritchie  10000000\n",
       "2     2001    Drama       104  Vondie Curtis-Hall  22000000\n",
       "3     2001   Comedy       100       Jeremy Kasten   1000000\n",
       "4     2000    Crime        87       Bryan Johnson    120000\n",
       "...    ...      ...       ...                 ...       ...\n",
       "5055  2019   Comedy        84           Jon Lucas   5000000\n",
       "5056  2019    Drama        94         Dan Sallitt     95000\n",
       "5057  2019   Action        84        Glenn Miller    100000\n",
       "5058  2019   Action        92        Keoni Waxman   3000000\n",
       "5059  2019   Horror        77    Robin Entreinger    500000\n",
       "\n",
       "[5060 rows x 5 columns]"
      ]
     },
     "execution_count": 5,
     "metadata": {},
     "output_type": "execute_result"
    }
   ],
   "source": [
    "data = X.copy()\n",
    "data"
   ]
  },
  {
   "cell_type": "code",
   "execution_count": 6,
   "metadata": {},
   "outputs": [
    {
     "data": {
      "text/html": [
       "<div>\n",
       "<style scoped>\n",
       "    .dataframe tbody tr th:only-of-type {\n",
       "        vertical-align: middle;\n",
       "    }\n",
       "\n",
       "    .dataframe tbody tr th {\n",
       "        vertical-align: top;\n",
       "    }\n",
       "\n",
       "    .dataframe thead th {\n",
       "        text-align: right;\n",
       "    }\n",
       "</style>\n",
       "<table border=\"1\" class=\"dataframe\">\n",
       "  <thead>\n",
       "    <tr style=\"text-align: right;\">\n",
       "      <th></th>\n",
       "      <th>year</th>\n",
       "      <th>duration</th>\n",
       "      <th>budget</th>\n",
       "      <th>genre_Action</th>\n",
       "      <th>genre_Adventure</th>\n",
       "      <th>genre_Animation</th>\n",
       "      <th>genre_Biography</th>\n",
       "      <th>genre_Comedy</th>\n",
       "      <th>genre_Crime</th>\n",
       "      <th>genre_Drama</th>\n",
       "      <th>...</th>\n",
       "      <th>director_Zack Snyder</th>\n",
       "      <th>director_Zackary Adler</th>\n",
       "      <th>director_Zak Knutson</th>\n",
       "      <th>director_Zak Penn</th>\n",
       "      <th>director_Zebediah De Soto</th>\n",
       "      <th>director_Zia Mojabi</th>\n",
       "      <th>director_Ziad H. Hamzeh</th>\n",
       "      <th>director_Zoe Quist</th>\n",
       "      <th>director_Zoran Lisinac</th>\n",
       "      <th>director_mink</th>\n",
       "    </tr>\n",
       "  </thead>\n",
       "  <tbody>\n",
       "    <tr>\n",
       "      <th>0</th>\n",
       "      <td>2001</td>\n",
       "      <td>118</td>\n",
       "      <td>48000000</td>\n",
       "      <td>0</td>\n",
       "      <td>0</td>\n",
       "      <td>0</td>\n",
       "      <td>0</td>\n",
       "      <td>1</td>\n",
       "      <td>0</td>\n",
       "      <td>0</td>\n",
       "      <td>...</td>\n",
       "      <td>0</td>\n",
       "      <td>0</td>\n",
       "      <td>0</td>\n",
       "      <td>0</td>\n",
       "      <td>0</td>\n",
       "      <td>0</td>\n",
       "      <td>0</td>\n",
       "      <td>0</td>\n",
       "      <td>0</td>\n",
       "      <td>0</td>\n",
       "    </tr>\n",
       "    <tr>\n",
       "      <th>1</th>\n",
       "      <td>2000</td>\n",
       "      <td>86</td>\n",
       "      <td>10000000</td>\n",
       "      <td>0</td>\n",
       "      <td>0</td>\n",
       "      <td>0</td>\n",
       "      <td>0</td>\n",
       "      <td>0</td>\n",
       "      <td>0</td>\n",
       "      <td>0</td>\n",
       "      <td>...</td>\n",
       "      <td>0</td>\n",
       "      <td>0</td>\n",
       "      <td>0</td>\n",
       "      <td>0</td>\n",
       "      <td>0</td>\n",
       "      <td>0</td>\n",
       "      <td>0</td>\n",
       "      <td>0</td>\n",
       "      <td>0</td>\n",
       "      <td>0</td>\n",
       "    </tr>\n",
       "    <tr>\n",
       "      <th>2</th>\n",
       "      <td>2001</td>\n",
       "      <td>104</td>\n",
       "      <td>22000000</td>\n",
       "      <td>0</td>\n",
       "      <td>0</td>\n",
       "      <td>0</td>\n",
       "      <td>0</td>\n",
       "      <td>0</td>\n",
       "      <td>0</td>\n",
       "      <td>1</td>\n",
       "      <td>...</td>\n",
       "      <td>0</td>\n",
       "      <td>0</td>\n",
       "      <td>0</td>\n",
       "      <td>0</td>\n",
       "      <td>0</td>\n",
       "      <td>0</td>\n",
       "      <td>0</td>\n",
       "      <td>0</td>\n",
       "      <td>0</td>\n",
       "      <td>0</td>\n",
       "    </tr>\n",
       "    <tr>\n",
       "      <th>3</th>\n",
       "      <td>2001</td>\n",
       "      <td>100</td>\n",
       "      <td>1000000</td>\n",
       "      <td>0</td>\n",
       "      <td>0</td>\n",
       "      <td>0</td>\n",
       "      <td>0</td>\n",
       "      <td>1</td>\n",
       "      <td>0</td>\n",
       "      <td>0</td>\n",
       "      <td>...</td>\n",
       "      <td>0</td>\n",
       "      <td>0</td>\n",
       "      <td>0</td>\n",
       "      <td>0</td>\n",
       "      <td>0</td>\n",
       "      <td>0</td>\n",
       "      <td>0</td>\n",
       "      <td>0</td>\n",
       "      <td>0</td>\n",
       "      <td>0</td>\n",
       "    </tr>\n",
       "    <tr>\n",
       "      <th>4</th>\n",
       "      <td>2000</td>\n",
       "      <td>87</td>\n",
       "      <td>120000</td>\n",
       "      <td>0</td>\n",
       "      <td>0</td>\n",
       "      <td>0</td>\n",
       "      <td>0</td>\n",
       "      <td>0</td>\n",
       "      <td>1</td>\n",
       "      <td>0</td>\n",
       "      <td>...</td>\n",
       "      <td>0</td>\n",
       "      <td>0</td>\n",
       "      <td>0</td>\n",
       "      <td>0</td>\n",
       "      <td>0</td>\n",
       "      <td>0</td>\n",
       "      <td>0</td>\n",
       "      <td>0</td>\n",
       "      <td>0</td>\n",
       "      <td>0</td>\n",
       "    </tr>\n",
       "  </tbody>\n",
       "</table>\n",
       "<p>5 rows × 3537 columns</p>\n",
       "</div>"
      ],
      "text/plain": [
       "   year  duration    budget  genre_Action  genre_Adventure  genre_Animation  \\\n",
       "0  2001       118  48000000             0                0                0   \n",
       "1  2000        86  10000000             0                0                0   \n",
       "2  2001       104  22000000             0                0                0   \n",
       "3  2001       100   1000000             0                0                0   \n",
       "4  2000        87    120000             0                0                0   \n",
       "\n",
       "   genre_Biography  genre_Comedy  genre_Crime  genre_Drama  ...  \\\n",
       "0                0             1            0            0  ...   \n",
       "1                0             0            0            0  ...   \n",
       "2                0             0            0            1  ...   \n",
       "3                0             1            0            0  ...   \n",
       "4                0             0            1            0  ...   \n",
       "\n",
       "   director_Zack Snyder  director_Zackary Adler  director_Zak Knutson  \\\n",
       "0                     0                       0                     0   \n",
       "1                     0                       0                     0   \n",
       "2                     0                       0                     0   \n",
       "3                     0                       0                     0   \n",
       "4                     0                       0                     0   \n",
       "\n",
       "   director_Zak Penn  director_Zebediah De Soto  director_Zia Mojabi  \\\n",
       "0                  0                          0                    0   \n",
       "1                  0                          0                    0   \n",
       "2                  0                          0                    0   \n",
       "3                  0                          0                    0   \n",
       "4                  0                          0                    0   \n",
       "\n",
       "   director_Ziad H. Hamzeh  director_Zoe Quist  director_Zoran Lisinac  \\\n",
       "0                        0                   0                       0   \n",
       "1                        0                   0                       0   \n",
       "2                        0                   0                       0   \n",
       "3                        0                   0                       0   \n",
       "4                        0                   0                       0   \n",
       "\n",
       "   director_mink  \n",
       "0              0  \n",
       "1              0  \n",
       "2              0  \n",
       "3              0  \n",
       "4              0  \n",
       "\n",
       "[5 rows x 3537 columns]"
      ]
     },
     "execution_count": 6,
     "metadata": {},
     "output_type": "execute_result"
    }
   ],
   "source": [
    "# # Dummy Encoding for genre column\n",
    "data_binary_encoded = pd.get_dummies(data, columns= [\"genre\", \"director\"])\n",
    "data_binary_encoded.head()"
   ]
  },
  {
   "cell_type": "code",
   "execution_count": null,
   "metadata": {},
   "outputs": [],
   "source": []
  },
  {
   "cell_type": "code",
   "execution_count": 7,
   "metadata": {},
   "outputs": [],
   "source": [
    "# Create train/test split\n",
    "X_train, X_test, y_train, y_test = train_test_split(data_binary_encoded, y, random_state=42, stratify= y)\n"
   ]
  },
  {
   "cell_type": "code",
   "execution_count": 8,
   "metadata": {},
   "outputs": [
    {
     "data": {
      "text/plain": [
       "array([[1],\n",
       "       [0],\n",
       "       [0],\n",
       "       ...,\n",
       "       [0],\n",
       "       [2],\n",
       "       [2]])"
      ]
     },
     "execution_count": 8,
     "metadata": {},
     "output_type": "execute_result"
    }
   ],
   "source": [
    "label_encoder = LabelEncoder()\n",
    "label_encoder.fit(y_train)\n",
    "encoded_y_train = label_encoder.transform(y_train).reshape(-1,1)\n",
    "encoded_y_test = label_encoder.transform(y_test).reshape(-1,1)\n",
    "encoded_y_train"
   ]
  },
  {
   "cell_type": "code",
   "execution_count": 9,
   "metadata": {},
   "outputs": [
    {
     "name": "stdout",
     "output_type": "stream",
     "text": [
      "[-1.76326177  0.8312829  -0.47813651 ...  0.         -0.01623496\n",
      " -0.01623496]\n"
     ]
    }
   ],
   "source": [
    "# Create StandardScaler model and fit to training data\n",
    "X_scaler = StandardScaler().fit(X_train)\n",
    "y_scaler = StandardScaler().fit(encoded_y_train)\n",
    "\n",
    "# Transform training and testing data using X_scaler and y_scaler\n",
    "X_train_scaled = X_scaler.transform(X_train)\n",
    "X_test_scaled = X_scaler.transform(X_test)\n",
    "y_train_scaled = y_scaler.transform(encoded_y_train)\n",
    "y_test_scaled = y_scaler.transform(encoded_y_test)\n",
    "print(X_train_scaled[0])"
   ]
  },
  {
   "cell_type": "code",
   "execution_count": 10,
   "metadata": {},
   "outputs": [
    {
     "data": {
      "text/plain": [
       "array([0., 1., 0.], dtype=float32)"
      ]
     },
     "execution_count": 10,
     "metadata": {},
     "output_type": "execute_result"
    }
   ],
   "source": [
    "from tensorflow.keras.utils import to_categorical\n",
    "y_train_categorical = to_categorical(encoded_y_train)\n",
    "y_test_categorical = to_categorical(encoded_y_test)\n",
    "y_train_categorical[0]"
   ]
  },
  {
   "cell_type": "markdown",
   "metadata": {},
   "source": [
    "## Create Deep Learning Model"
   ]
  },
  {
   "cell_type": "code",
   "execution_count": 11,
   "metadata": {},
   "outputs": [
    {
     "name": "stdout",
     "output_type": "stream",
     "text": [
      "WARNING:tensorflow:From C:\\Users\\jagno\\.conda\\envs\\PythonData\\lib\\site-packages\\tensorflow\\python\\ops\\init_ops.py:1251: calling VarianceScaling.__init__ (from tensorflow.python.ops.init_ops) with dtype is deprecated and will be removed in a future version.\n",
      "Instructions for updating:\n",
      "Call initializer instance with the dtype argument instead of passing it to the constructor\n"
     ]
    }
   ],
   "source": [
    "# Create deep learning model\n",
    "# Visible layer with 3537 inputs\n",
    "# Two hidden layers with 100 nodes\n",
    "from tensorflow.keras.models import Sequential\n",
    "from tensorflow.keras.layers import Dense\n",
    "deep_model = Sequential()\n",
    "deep_model.add(Dense(units=100, activation= \"relu\", input_dim=3537))\n",
    "deep_model.add(Dense(units=100, activation= \"relu\"))\n",
    "deep_model.add(Dense(units=100, activation= \"relu\"))\n",
    "deep_model.add(Dense(units=3, activation= \"softmax\"))"
   ]
  },
  {
   "cell_type": "code",
   "execution_count": 12,
   "metadata": {},
   "outputs": [
    {
     "name": "stdout",
     "output_type": "stream",
     "text": [
      "Model: \"sequential\"\n",
      "_________________________________________________________________\n",
      "Layer (type)                 Output Shape              Param #   \n",
      "=================================================================\n",
      "dense (Dense)                (None, 100)               353800    \n",
      "_________________________________________________________________\n",
      "dense_1 (Dense)              (None, 100)               10100     \n",
      "_________________________________________________________________\n",
      "dense_2 (Dense)              (None, 100)               10100     \n",
      "_________________________________________________________________\n",
      "dense_3 (Dense)              (None, 3)                 303       \n",
      "=================================================================\n",
      "Total params: 374,303\n",
      "Trainable params: 374,303\n",
      "Non-trainable params: 0\n",
      "_________________________________________________________________\n"
     ]
    }
   ],
   "source": [
    "# Compile and fit the model\n",
    "deep_model.compile(optimizer = \"adam\", loss= \"mse\", metrics=[\"accuracy\"])\n",
    "deep_model.summary()\n"
   ]
  },
  {
   "cell_type": "code",
   "execution_count": 13,
   "metadata": {},
   "outputs": [
    {
     "data": {
      "text/plain": [
       "<tensorflow.python.keras.callbacks.History at 0x155c05e3ef0>"
      ]
     },
     "execution_count": 13,
     "metadata": {},
     "output_type": "execute_result"
    }
   ],
   "source": [
    "deep_model.fit(X_train_scaled, y_train_categorical, epochs=100, shuffle=True, verbose=0)"
   ]
  },
  {
   "cell_type": "markdown",
   "metadata": {},
   "source": [
    "## Quantify the Model"
   ]
  },
  {
   "cell_type": "code",
   "execution_count": 14,
   "metadata": {},
   "outputs": [
    {
     "name": "stdout",
     "output_type": "stream",
     "text": [
      "Deep Neural Network - Loss: 0.1995680158199529\n",
      "Deep Neural Network - Accuracy: 0.6110671758651733\n"
     ]
    }
   ],
   "source": [
    "model_loss, model_accuracy = deep_model.evaluate(X_test_scaled, y_test_categorical, verbose=0)\n",
    "print(f\"Deep Neural Network - Loss: {model_loss}\")\n",
    "print(f\"Deep Neural Network - Accuracy: {model_accuracy}\")"
   ]
  },
  {
   "cell_type": "markdown",
   "metadata": {},
   "source": [
    "## Make Predictions"
   ]
  },
  {
   "cell_type": "code",
   "execution_count": 15,
   "metadata": {},
   "outputs": [
    {
     "name": "stdout",
     "output_type": "stream",
     "text": [
      "[1 2 2 2 2 0 2 2 0 0]\n",
      "Predicted classes: ['Excellent' 'Good' 'Good' ... 'Good' 'Excellent' 'Good']\n",
      "Actual Labels: [['Good']\n",
      " ['Good']\n",
      " ['Excellent']\n",
      " ['Excellent']\n",
      " ['Good']\n",
      " ['Good']\n",
      " ['Good']\n",
      " ['Good']\n",
      " ['Good']\n",
      " ['Good']]\n"
     ]
    }
   ],
   "source": [
    "encoded_predictions = deep_model.predict_classes(X_test_scaled)\n",
    "prediction_labels = label_encoder.inverse_transform(encoded_predictions)\n",
    "print(encoded_predictions[:10])\n",
    "print(f\"Predicted classes: {prediction_labels}\")\n",
    "print(f\"Actual Labels: {y_test[:10]}\")"
   ]
  },
  {
   "cell_type": "code",
   "execution_count": 16,
   "metadata": {},
   "outputs": [
    {
     "name": "stdout",
     "output_type": "stream",
     "text": [
      "              precision    recall  f1-score   support\n",
      "\n",
      "         Bad       0.48      0.56      0.52       270\n",
      "   Excellent       0.26      0.30      0.28       167\n",
      "        Good       0.75      0.69      0.72       828\n",
      "\n",
      "    accuracy                           0.61      1265\n",
      "   macro avg       0.50      0.52      0.51      1265\n",
      "weighted avg       0.63      0.61      0.62      1265\n",
      "\n"
     ]
    }
   ],
   "source": [
    "# CLassification report\n",
    "from sklearn.metrics import classification_report\n",
    "print(classification_report(y_test, prediction_labels))"
   ]
  },
  {
   "cell_type": "code",
   "execution_count": 17,
   "metadata": {},
   "outputs": [
    {
     "name": "stdout",
     "output_type": "stream",
     "text": [
      "model saved\n"
     ]
    }
   ],
   "source": [
    "deep_model.save(\"dl.h5\")\n",
    "print(\"model saved\")"
   ]
  },
  {
   "cell_type": "code",
   "execution_count": null,
   "metadata": {},
   "outputs": [],
   "source": []
  }
 ],
 "metadata": {
  "kernelspec": {
   "display_name": "Python 3",
   "language": "python",
   "name": "python3"
  },
  "language_info": {
   "codemirror_mode": {
    "name": "ipython",
    "version": 3
   },
   "file_extension": ".py",
   "mimetype": "text/x-python",
   "name": "python",
   "nbconvert_exporter": "python",
   "pygments_lexer": "ipython3",
   "version": "3.6.10"
  }
 },
 "nbformat": 4,
 "nbformat_minor": 4
}
